{
 "cells": [
  {
   "cell_type": "code",
   "execution_count": null,
   "id": "3985a24e-ca64-4c4c-81b5-45c978f40947",
   "metadata": {},
   "outputs": [],
   "source": [
    "import pandas as pd\n",
    "import matplotlib.pyplot as plt\n",
    "import matplotlib as mpl\n",
    "import re\n",
    "import os\n",
    "import datetime as dt\n",
    "import numpy as np\n",
    "from copy import deepcopy\n",
    "import seaborn as sns\n",
    "from IPython.display import display"
   ]
  },
  {
   "cell_type": "code",
   "execution_count": null,
   "id": "c1810c93-80ec-4f61-882f-ea14e941ef6e",
   "metadata": {},
   "outputs": [],
   "source": [
    "files = os.listdir(\"data\")\n",
    "# Sort dates\n",
    "dates = [dt.datetime.strptime(re.findall(r'\\d{4}-\\d{2}-\\d{2}',f)[0],'%Y-%m-%d') for f in files]\n",
    "dates = sorted(dates,reverse=False)\n",
    "dates = [i.strftime('%Y-%m-%d') for i in dates]\n",
    "\n",
    "dfs_raw = {d: pd.read_csv(f'data/worldometers-{d}.tsv',sep=\"\\t\") for d in dates}"
   ]
  }
 ],
 "metadata": {
  "kernelspec": {
   "display_name": "Python 3 (ipykernel)",
   "language": "python",
   "name": "python3"
  },
  "language_info": {
   "codemirror_mode": {
    "name": "ipython",
    "version": 3
   },
   "file_extension": ".py",
   "mimetype": "text/x-python",
   "name": "python",
   "nbconvert_exporter": "python",
   "pygments_lexer": "ipython3",
   "version": "3.10.2"
  }
 },
 "nbformat": 4,
 "nbformat_minor": 5
}
