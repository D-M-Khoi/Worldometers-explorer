{
 "cells": [
  {
   "cell_type": "code",
   "execution_count": null,
   "metadata": {},
   "outputs": [],
   "source": [
    "import pandas as pd\n",
    "import seaborn as sns\n",
    "import matplotlib.pyplot as plt\n",
    "import matplotlib as mpl\n",
    "import re\n",
    "import os\n",
    "import datetime as dt\n",
    "import numpy as np\n",
    "import copy "
   ]
  },
  {
   "cell_type": "markdown",
   "metadata": {},
   "source": [
    "# Setup"
   ]
  },
  {
   "cell_type": "code",
   "execution_count": null,
   "metadata": {},
   "outputs": [],
   "source": [
    "font = {'family' : 'monospace',\n",
    "        'weight' : 'normal',\n",
    "        'size'   : 15}\n",
    "\n",
    "mpl.rc('font', **font)\n",
    "plt.rcParams[\"figure.figsize\"] = [16,9]"
   ]
  },
  {
   "cell_type": "markdown",
   "metadata": {},
   "source": [
    "# Load data"
   ]
  },
  {
   "cell_type": "code",
   "execution_count": null,
   "metadata": {},
   "outputs": [],
   "source": [
    "files = os.listdir(\"data\")\n",
    "# Sort dates\n",
    "dates = [dt.datetime.strptime(re.findall(r'\\d{4}-\\d{2}-\\d{2}',f)[0],'%Y-%m-%d') for f in files]\n",
    "dates = sorted(dates,reverse=False)\n",
    "dates = [i.strftime('%Y-%m-%d') for i in dates]"
   ]
  },
  {
   "cell_type": "code",
   "execution_count": null,
   "metadata": {},
   "outputs": [],
   "source": [
    "dfs = {d: pd.read_csv(f'data/worldometers-{d}.tsv',sep=\"\\t\") for d in dates}"
   ]
  },
  {
   "cell_type": "markdown",
   "metadata": {},
   "source": [
    "# Example data"
   ]
  },
  {
   "cell_type": "code",
   "execution_count": null,
   "metadata": {},
   "outputs": [],
   "source": [
    "dfs[dates[-1]]"
   ]
  },
  {
   "cell_type": "markdown",
   "metadata": {},
   "source": [
    "# Cleaning\n",
    "* Replace nan values in numerical attributes with ```0```\n",
    "* Replace nan values in categorical attributes with ```Other```"
   ]
  },
  {
   "cell_type": "code",
   "execution_count": null,
   "metadata": {},
   "outputs": [],
   "source": [
    "for df in dfs.values():\n",
    "    for i in range(1, df.shape[1] - 1):\n",
    "        df.iloc[:,i] = df.iloc[:,i].fillna(0)\n",
    "    df.iloc[:,-1] = df.iloc[:,-1].fillna('Other')"
   ]
  },
  {
   "cell_type": "markdown",
   "metadata": {},
   "source": [
    "# Analyzing\n",
    "## Questions\n",
    "1. What is the trend of NewCases?\n",
    "2. What is the trend of NewDeaths?\n",
    "3. What is the trend of NewRecovered?\n",
    "3. Distribution of cases per 1 million people\n",
    "4. Distribution of proportion of recovered cases per 1 million people\n",
    "5. Distribution of proportion of deaths per 1 million of peple\n",
    "5. Total cases in each continent?\n",
    "6. Does Population affect NewCases?\n",
    "7. Does Population affect NewDeaths?\n",
    "8. Does the number of test conducted affect the total cases?\n",
    "9. Does the number of serious cases lead to high number of death cases?\n",
    "10. "
   ]
  },
  {
   "cell_type": "markdown",
   "metadata": {},
   "source": [
    "## New cases trend"
   ]
  },
  {
   "cell_type": "code",
   "execution_count": null,
   "metadata": {},
   "outputs": [],
   "source": [
    "NewCases = [np.sum(dfs[d][\"NewCases\"]) for d in dates]\n",
    "plt.xticks(rotation='90')\n",
    "plt.plot(dates,NewCases)\n",
    "plt.xlabel(\"Date\")\n",
    "plt.ylabel(\"New cases\")\n",
    "plt.title(\"World new cases\")\n",
    "plt.tight_layout()\n",
    "plt.savefig(\"figures/WorldNewCases.png\")"
   ]
  },
  {
   "cell_type": "markdown",
   "metadata": {},
   "source": [
    "## New deaths trend"
   ]
  },
  {
   "cell_type": "code",
   "execution_count": null,
   "metadata": {},
   "outputs": [],
   "source": [
    "NewDeaths = [np.sum(dfs[d][\"NewDeaths\"]) for d in dates]\n",
    "plt.xticks(rotation='90')\n",
    "plt.plot(dates,NewDeaths)\n",
    "plt.xlabel(\"Date\")\n",
    "plt.ylabel(\"New deaths\")\n",
    "plt.title(\"World new deaths\")\n",
    "plt.tight_layout()\n",
    "plt.savefig(\"figures/WorldNewDeaths.png\")"
   ]
  },
  {
   "cell_type": "markdown",
   "metadata": {},
   "source": [
    "## New recovered"
   ]
  },
  {
   "cell_type": "code",
   "execution_count": null,
   "metadata": {},
   "outputs": [],
   "source": [
    "NewDeaths = [np.sum(dfs[d][\"NewRecovered\"]) for d in dates]\n",
    "plt.xticks(rotation='90')\n",
    "plt.plot(dates,NewDeaths)\n",
    "plt.xlabel(\"Date\")\n",
    "plt.ylabel(\"New recovered\")\n",
    "plt.title(\"World new recovered\")\n",
    "plt.tight_layout()\n",
    "plt.savefig(\"figures/WorldNewRecovered.png\")"
   ]
  },
  {
   "cell_type": "markdown",
   "metadata": {},
   "source": [
    "## Density of cases (cases per 1 million people) \n",
    "* Data is taken on the first 3 days of December"
   ]
  },
  {
   "cell_type": "code",
   "execution_count": null,
   "metadata": {},
   "outputs": [],
   "source": [
    "dates_t = [\"2021-12-01\", \"2021-12-02\", \"2021-12-03\"]"
   ]
  },
  {
   "cell_type": "code",
   "execution_count": null,
   "metadata": {},
   "outputs": [],
   "source": [
    "def display_density(attr, date):\n",
    "    plt.xticks(rotation='90')\n",
    "    plt.hist(dfs[date][attr])\n",
    "    plt.xlabel(\"Cases/1M ppl\")\n",
    "    plt.ylabel(\"\")\n",
    "    plt.title(f\"Total cases (1M Pop) {date}\")\n",
    "    plt.tight_layout()\n",
    "    plt.savefig(f\"figures/WorldTotalCase1MPop{date}.png\")"
   ]
  },
  {
   "cell_type": "code",
   "execution_count": null,
   "metadata": {},
   "outputs": [],
   "source": []
  }
 ],
 "metadata": {
  "interpreter": {
   "hash": "09d67bcd7ff13b9df5301fa22c4b79d210e46a32433d34b4a205d9ff5f62d182"
  },
  "kernelspec": {
   "display_name": "Python 3.8.8 64-bit ('min_ds-env': conda)",
   "language": "python",
   "name": "python3"
  },
  "language_info": {
   "codemirror_mode": {
    "name": "ipython",
    "version": 3
   },
   "file_extension": ".py",
   "mimetype": "text/x-python",
   "name": "python",
   "nbconvert_exporter": "python",
   "pygments_lexer": "ipython3",
   "version": "3.8.8"
  },
  "orig_nbformat": 4
 },
 "nbformat": 4,
 "nbformat_minor": 2
}
