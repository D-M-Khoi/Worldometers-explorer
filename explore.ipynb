{
 "cells": [
  {
   "cell_type": "code",
   "execution_count": 1,
   "metadata": {},
   "outputs": [],
   "source": [
    "import pandas as pd\n",
    "import seaborn as sns\n",
    "import matplotlib.pyplot as plt\n",
    "import re\n",
    "import os\n",
    "import datetime as dt\n",
    "import numpy as np"
   ]
  },
  {
   "cell_type": "markdown",
   "metadata": {},
   "source": [
    "# Load data"
   ]
  },
  {
   "cell_type": "code",
   "execution_count": 2,
   "metadata": {},
   "outputs": [],
   "source": [
    "files = os.listdir(\"data\")\n",
    "# Sort dates\n",
    "dates = [dt.datetime.strptime(re.findall(r'\\d{4}-\\d{2}-\\d{2}',f)[0],'%Y-%m-%d') for f in files]\n",
    "sorted(dates,reverse=True)\n",
    "dates = [i.strftime('%Y-%m-%-d') for i in dates]"
   ]
  },
  {
   "cell_type": "code",
   "execution_count": 3,
   "metadata": {},
   "outputs": [],
   "source": [
    "dfs = {d: pd.read_csv(f'data/worldometers-{d}.tsv',sep=\"\\t\") for d in dates}"
   ]
  },
  {
   "cell_type": "markdown",
   "metadata": {},
   "source": [
    "# Preprocessing"
   ]
  },
  {
   "cell_type": "code",
   "execution_count": 7,
   "metadata": {},
   "outputs": [],
   "source": [
    "for df in dfs.values():\n",
    "    for i in range(1, df.shape[1] - 1):\n",
    "        df.iloc[:,i] = df.iloc[:,i].fillna(0)\n",
    "    df.iloc[:,-1] = df.iloc[:,-1].fillna('Other')"
   ]
  },
  {
   "cell_type": "code",
   "execution_count": 9,
   "metadata": {},
   "outputs": [],
   "source": [
    "df = dfs[dates[0]]"
   ]
  },
  {
   "cell_type": "markdown",
   "metadata": {},
   "source": [
    "# Deaths"
   ]
  },
  {
   "cell_type": "code",
   "execution_count": 8,
   "metadata": {},
   "outputs": [
    {
     "data": {
      "text/plain": [
       "0          North America\n",
       "1                   Asia\n",
       "2          South America\n",
       "3                 Europe\n",
       "4                 Europe\n",
       "             ...        \n",
       "219    Australia/Oceania\n",
       "220    Australia/Oceania\n",
       "221               Africa\n",
       "222    Australia/Oceania\n",
       "223    Australia/Oceania\n",
       "Name: Continent, Length: 224, dtype: object"
      ]
     },
     "execution_count": 8,
     "metadata": {},
     "output_type": "execute_result"
    }
   ],
   "source": [
    "df[df[\"Continent\"]]"
   ]
  },
  {
   "cell_type": "code",
   "execution_count": null,
   "metadata": {},
   "outputs": [],
   "source": []
  }
 ],
 "metadata": {
  "interpreter": {
   "hash": "09d67bcd7ff13b9df5301fa22c4b79d210e46a32433d34b4a205d9ff5f62d182"
  },
  "kernelspec": {
   "display_name": "Python 3.8.8 64-bit ('min_ds-env': conda)",
   "language": "python",
   "name": "python3"
  },
  "language_info": {
   "codemirror_mode": {
    "name": "ipython",
    "version": 3
   },
   "file_extension": ".py",
   "mimetype": "text/x-python",
   "name": "python",
   "nbconvert_exporter": "python",
   "pygments_lexer": "ipython3",
   "version": "3.8.8"
  },
  "orig_nbformat": 4
 },
 "nbformat": 4,
 "nbformat_minor": 2
}
